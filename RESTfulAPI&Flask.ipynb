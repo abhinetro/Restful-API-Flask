{
  "nbformat": 4,
  "nbformat_minor": 0,
  "metadata": {
    "colab": {
      "provenance": []
    },
    "kernelspec": {
      "name": "python3",
      "display_name": "Python 3"
    },
    "language_info": {
      "name": "python"
    }
  },
  "cells": [
    {
      "cell_type": "markdown",
      "source": [
        "# 1. What is a RESTful API?\n",
        "\"\"\"\n",
        "A RESTful API (Representational State Transfer) is an architectural style for designing networked applications.\n",
        "It uses standard HTTP methods and is stateless, scalable, and cacheable.\n",
        "\"\"\"\n",
        "\n",
        "# 2. Explain the concept of API specification.\n",
        "\"\"\"\n",
        "An API specification defines how clients can interact with an API. It includes endpoints, request types,\n",
        "parameters, data formats, and response types. OpenAPI (Swagger) is a popular API specification format.\n",
        "\"\"\"\n",
        "\n",
        "# 3. What is Flask, and why is it popular for building APIs?\n",
        "\"\"\"\n",
        "Flask is a lightweight web framework in Python. It's popular for APIs because it's easy to learn, flexible,\n",
        "has a small footprint, and supports extensions like Flask-RESTful and Flask-SQLAlchemy.\n",
        "\"\"\"\n",
        "\n",
        "# 4. What is routing in Flask?\n",
        "\"\"\"\n",
        "Routing maps a URL path to a specific function in Flask, allowing different URLs to trigger different actions.\n",
        "\"\"\"\n",
        "\n",
        "# 5. How do you create a simple Flask application?\n",
        "from flask import Flask\n",
        "\n",
        "app = Flask(__name__)\n",
        "\n",
        "@app.route('/')\n",
        "def home():\n",
        "    return \"Hello, Flask!\"\n",
        "\n",
        "# 6. What are HTTP methods used in RESTful APIs?\n",
        "\"\"\"\n",
        "Common HTTP methods:\n",
        "- GET: Retrieve data\n",
        "- POST: Submit data\n",
        "- PUT: Update data\n",
        "- DELETE: Remove data\n",
        "- PATCH: Partially update data\n",
        "\"\"\"\n",
        "\n",
        "# 7. What is the purpose of the @app.route() decorator in Flask?\n",
        "\"\"\"\n",
        "@app.route() maps a URL to a Python function and defines which HTTP methods it accepts.\n",
        "\"\"\"\n",
        "\n",
        "# 8. What is the difference between GET and POST HTTP methods?\n",
        "\"\"\"\n",
        "GET retrieves data and is visible in the URL.\n",
        "POST submits data in the request body and is more secure for sending sensitive data.\n",
        "\"\"\"\n",
        "\n",
        "# 9. How do you handle errors in Flask APIs?\n",
        "from flask import jsonify\n",
        "\n",
        "@app.errorhandler(404)\n",
        "def not_found(error):\n",
        "    return jsonify({\"error\": \"Not found\"}), 404\n",
        "\n",
        "# 10. How do you connect Flask to a SQL database?\n",
        "\"\"\"\n",
        "You use an ORM like SQLAlchemy or libraries like Flask-SQLAlchemy to connect Flask with databases.\n",
        "\"\"\"\n",
        "\n",
        "# 11. What is the role of Flask-SQLAlchemy?\n",
        "\"\"\"\n",
        "Flask-SQLAlchemy is an extension that integrates SQLAlchemy with Flask to manage database models easily.\n",
        "\"\"\"\n",
        "\n",
        "# 12. What are Flask blueprints, and how are they useful?\n",
        "\"\"\"\n",
        "Blueprints let you organize your Flask app into components/modules, useful for large projects.\n",
        "\"\"\"\n",
        "\n",
        "# 13. What is the purpose of Flask's request object?\n",
        "from flask import request\n",
        "\"\"\"\n",
        "The request object contains data sent by the client (form data, JSON, headers, etc.)\n",
        "\"\"\"\n",
        "\n",
        "# 14. How do you create a RESTful API endpoint using Flask?\n",
        "@app.route('/api/data', methods=['GET'])\n",
        "def get_data():\n",
        "    return jsonify({\"message\": \"Data retrieved successfully\"})\n",
        "\n",
        "# 15. What is the purpose of Flask's jsonify() function?\n",
        "\"\"\"\n",
        "jsonify() converts Python dictionaries/lists into JSON format to send as an API response.\n",
        "\"\"\"\n",
        "\n",
        "# 16. Explain Flask's url_for() function.\n",
        "from flask import url_for\n",
        "\"\"\"\n",
        "url_for() dynamically generates a URL for a function, useful for redirects and building links.\n",
        "\"\"\"\n",
        "\n",
        "# 17. How does Flask handle static files (CSS, JavaScript, etc.)?\n",
        "\"\"\"\n",
        "Flask serves static files from the /static directory by default using the /static/ URL.\n",
        "\"\"\"\n",
        "\n",
        "# 18. What is an API specification, and how does it help in building a Flask API?\n",
        "\"\"\"\n",
        "It acts as a blueprint for building the API. It helps ensure consistency, clarity, and makes documentation easy.\n",
        "\"\"\"\n",
        "\n",
        "# 19. What are HTTP status codes, and why are they important in a Flask API?\n",
        "\"\"\"\n",
        "HTTP status codes (e.g., 200, 404, 500) indicate the outcome of a request. They help the client understand what happened.\n",
        "\"\"\"\n",
        "\n",
        "# 20. How do you handle POST requests in Flask?\n",
        "@app.route('/submit', methods=['POST'])\n",
        "def submit_data():\n",
        "    data = request.get_json()\n",
        "    return jsonify({\"received\": data}), 201\n",
        "\n",
        "# 21. How would you secure a Flask APP?\n",
        "\"\"\"\n",
        "- Use HTTPS\n",
        "- Validate user input\n",
        "- Use authentication (JWT, OAuth)\n",
        "- Prevent CSRF/XSS attacks\n",
        "- Use secure cookies and sessions\n",
        "\"\"\"\n",
        "\n",
        "# 22. What is the significance of the Flask-RESTful extension?\n",
        "\"\"\"\n",
        "It adds tools to Flask to build RESTful APIs faster and more cleanly using resource classes.\n",
        "\"\"\"\n",
        "\n",
        "# 23. What is the role of Flask's session object?\n",
        "from flask import session\n",
        "\"\"\"\n",
        "The session object stores user data across requests. It’s useful for login states and preferences.\n",
        "\"\"\""
      ],
      "metadata": {
        "id": "P0E7T3u45tqh"
      }
    },
    {
      "cell_type": "markdown",
      "source": [
        "#**Practical**"
      ],
      "metadata": {
        "id": "RwkhtUoQ8NDM"
      }
    },
    {
      "cell_type": "code",
      "source": [
        "# 1. How do you create a basic Flask application?\n",
        "\n",
        "from flask import Flask\n",
        "\n",
        "app = Flask(__name__)\n",
        "\n",
        "@app.route('/')\n",
        "def home():\n",
        "    return \"Hello, Flask!\"\n",
        "\n",
        "if __name__ == '__main__':\n",
        "    app.run(debug=True)"
      ],
      "metadata": {
        "id": "PFFEg6Ea7_FD"
      },
      "execution_count": null,
      "outputs": []
    },
    {
      "cell_type": "code",
      "source": [
        "# 2. How do you serve static files like images or CSS in Flask?\n",
        "\n",
        "# Folder structure:\n",
        "# ├── static/\n",
        "# │   └── style.css\n",
        "# └── templates/\n",
        "#     └── index.html\n",
        "\n",
        "from flask import Flask, render_template\n",
        "\n",
        "app = Flask(__name__)\n",
        "\n",
        "@app.route('/')\n",
        "def homepage():\n",
        "    return render_template('index.html')\n",
        "\n",
        "# static/style.css\n",
        "# body { background-color: #f0f0f0; }\n",
        "\n",
        "# templates/index.html\n",
        "'''\n",
        "<!doctype html>\n",
        "<html>\n",
        "<head>\n",
        "  <link rel=\"stylesheet\" href=\"{{ url_for('static', filename='style.css') }}\">\n",
        "</head>\n",
        "<body>\n",
        "  <h1>Static CSS Working!</h1>\n",
        "</body>\n",
        "</html>\n",
        "'''"
      ],
      "metadata": {
        "id": "2UEw-0r98YoA"
      },
      "execution_count": null,
      "outputs": []
    },
    {
      "cell_type": "code",
      "source": [
        "# 3. How do you define different routes with different HTTP methods in Flask?\n",
        "\n",
        "from flask import Flask, request\n",
        "\n",
        "app = Flask(__name__)\n",
        "\n",
        "@app.route('/submit', methods=['GET', 'POST'])\n",
        "def submit():\n",
        "    if request.method == 'POST':\n",
        "        return \"POST request received!\"\n",
        "    return \"GET request received!\""
      ],
      "metadata": {
        "id": "1KYUteVX8gZt"
      },
      "execution_count": null,
      "outputs": []
    },
    {
      "cell_type": "code",
      "source": [
        "# 4. How do you render HTML templates in Flask?\n",
        "\n",
        "from flask import Flask, render_template\n",
        "\n",
        "app = Flask(__name__)\n",
        "\n",
        "@app.route('/welcome')\n",
        "def welcome():\n",
        "    return render_template('welcome.html', name=\"Abhishek\")\n",
        "\n",
        "# templates/welcome.html\n",
        "'''\n",
        "<!doctype html>\n",
        "<html>\n",
        "  <body>\n",
        "    <h2>Welcome, {{ name }}!</h2>\n",
        "  </body>\n",
        "</html>\n",
        "'''"
      ],
      "metadata": {
        "id": "MbYuDkb08lzc"
      },
      "execution_count": null,
      "outputs": []
    },
    {
      "cell_type": "code",
      "source": [
        "# 5. How can you generate URLs for routes in Flask using url_for()?\n",
        "\n",
        "from flask import Flask, url_for\n",
        "\n",
        "app = Flask(__name__)\n",
        "\n",
        "@app.route('/profile/<username>')\n",
        "def profile(username):\n",
        "    return f\"User: {username}\"\n",
        "\n",
        "@app.route('/link')\n",
        "def link():\n",
        "    return url_for('profile', username='abhishek')"
      ],
      "metadata": {
        "id": "CgrUcMfG8t66"
      },
      "execution_count": null,
      "outputs": []
    },
    {
      "cell_type": "code",
      "source": [
        "# 6. How do you handle forms in Flask?\n",
        "\n",
        "from flask import Flask, request\n",
        "\n",
        "app = Flask(__name__)\n",
        "\n",
        "@app.route('/form', methods=['GET', 'POST'])\n",
        "def form():\n",
        "    if request.method == 'POST':\n",
        "        name = request.form['name']\n",
        "        return f\"Hello, {name}\"\n",
        "    return '''\n",
        "        <form method=\"POST\">\n",
        "          Name: <input name=\"name\">\n",
        "          <input type=\"submit\">\n",
        "        </form>\n",
        "    '''"
      ],
      "metadata": {
        "id": "H62BlQZC8zLO"
      },
      "execution_count": null,
      "outputs": []
    },
    {
      "cell_type": "code",
      "source": [
        "# 7. How can you validate form data in Flask?\n",
        "\n",
        "from flask import Flask, request\n",
        "\n",
        "app = Flask(__name__)\n",
        "\n",
        "@app.route('/validate', methods=['POST'])\n",
        "def validate():\n",
        "    name = request.form.get('name')\n",
        "    if not name:\n",
        "        return \"Name is required!\"\n",
        "    return f\"Welcome, {name}\""
      ],
      "metadata": {
        "id": "HV3zoZo389i5"
      },
      "execution_count": null,
      "outputs": []
    },
    {
      "cell_type": "code",
      "source": [
        "# 8. How do you manage sessions in Flask?\n",
        "\n",
        "from flask import Flask, session, request\n",
        "\n",
        "app = Flask(__name__)\n",
        "app.secret_key = 'supersecretkey'\n",
        "\n",
        "@app.route('/login', methods=['POST', 'GET'])\n",
        "def login():\n",
        "    if request.method == 'POST':\n",
        "        session['user'] = request.form['username']\n",
        "        return f\"Logged in as {session['user']}\"\n",
        "    return '''\n",
        "        <form method=\"POST\">\n",
        "            Username: <input name=\"username\">\n",
        "            <input type=\"submit\">\n",
        "        </form>\n",
        "    '''\n",
        "\n",
        "@app.route('/logout')\n",
        "def logout():\n",
        "    session.pop('user', None)\n",
        "    return \"Logged out\"\n"
      ],
      "metadata": {
        "id": "x5jdxaf29Igv"
      },
      "execution_count": null,
      "outputs": []
    },
    {
      "cell_type": "code",
      "source": [
        "# 9. How do you redirect to a different route in Flask?\n",
        "\n",
        "from flask import Flask, redirect, url_for\n",
        "\n",
        "app = Flask(__name__)\n",
        "\n",
        "@app.route('/')\n",
        "def home():\n",
        "    return redirect(url_for('welcome'))\n",
        "\n",
        "@app.route('/welcome')\n",
        "def welcome():\n",
        "    return \"Welcome!\""
      ],
      "metadata": {
        "id": "qNse6pUr9PuA"
      },
      "execution_count": null,
      "outputs": []
    },
    {
      "cell_type": "code",
      "source": [
        "# 10. How do you handle errors in Flask (e.g., 404)?\n",
        "\n",
        "from flask import Flask\n",
        "\n",
        "app = Flask(__name__)\n",
        "\n",
        "@app.errorhandler(404)\n",
        "def not_found(error):\n",
        "    return \"404 - Page Not Found\", 404"
      ],
      "metadata": {
        "id": "YYGi3m7V9S-H"
      },
      "execution_count": null,
      "outputs": []
    },
    {
      "cell_type": "code",
      "source": [
        "# 11. How do you structure a Flask app using Blueprints?\n",
        "\n",
        "# main.py\n",
        "from flask import Flask\n",
        "from user import user_blueprint\n",
        "\n",
        "app = Flask(__name__)\n",
        "app.register_blueprint(user_blueprint)\n",
        "\n",
        "# user.py\n",
        "from flask import Blueprint\n",
        "\n",
        "user_blueprint = Blueprint('user', __name__)\n",
        "\n",
        "@user_blueprint.route('/profile')\n",
        "def profile():\n",
        "    return \"User Profile\""
      ],
      "metadata": {
        "id": "HyfnO_yR9YSg"
      },
      "execution_count": null,
      "outputs": []
    },
    {
      "cell_type": "code",
      "source": [
        "# 12. How do you define a custom Jinja filter in Flask?\n",
        "\n",
        "from flask import Flask, render_template\n",
        "\n",
        "app = Flask(__name__)\n",
        "\n",
        "@app.template_filter('reverse')\n",
        "def reverse_filter(s):\n",
        "    return s[::-1]\n",
        "\n",
        "@app.route('/')\n",
        "def home():\n",
        "    return render_template('filter.html', word=\"Flask\")\n",
        "\n",
        "# templates/filter.html\n",
        "'''\n",
        "<h1>{{ word | reverse }}</h1>\n",
        "'''"
      ],
      "metadata": {
        "id": "FY19RDjV9fr-"
      },
      "execution_count": null,
      "outputs": []
    },
    {
      "cell_type": "code",
      "source": [
        "# 13. How can you redirect with query parameters in Flask?\n",
        "\n",
        "from flask import Flask, redirect, url_for\n",
        "\n",
        "app = Flask(__name__)\n",
        "\n",
        "@app.route('/')\n",
        "def home():\n",
        "    return redirect(url_for('greet', name='Abhishek'))\n",
        "\n",
        "@app.route('/greet')\n",
        "def greet():\n",
        "    from flask import request\n",
        "    name = request.args.get('name')\n",
        "    return f\"Hello {name}\"\n"
      ],
      "metadata": {
        "id": "XDoQrhax9oll"
      },
      "execution_count": null,
      "outputs": []
    },
    {
      "cell_type": "code",
      "source": [
        "# 14. How do you return JSON responses in Flask?\n",
        "\n",
        "from flask import Flask, jsonify\n",
        "\n",
        "app = Flask(__name__)\n",
        "\n",
        "@app.route('/data')\n",
        "def data():\n",
        "    return jsonify(name=\"Abhishek\", status=\"Active\")"
      ],
      "metadata": {
        "id": "J65ncItK9uIu"
      },
      "execution_count": null,
      "outputs": []
    },
    {
      "cell_type": "code",
      "source": [
        "# 15. How do you capture URL parameters in Flask?\n",
        "\n",
        "from flask import Flask\n",
        "\n",
        "app = Flask(__name__)\n",
        "\n",
        "@app.route('/user/<username>')\n",
        "def show_user(username):\n",
        "    return f\"Username is {username}\""
      ],
      "metadata": {
        "id": "0ZmSjjfN9yYe"
      },
      "execution_count": null,
      "outputs": []
    }
  ]
}